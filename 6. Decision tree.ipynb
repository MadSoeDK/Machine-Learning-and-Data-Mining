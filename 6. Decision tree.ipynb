{
 "cells": [
  {
   "cell_type": "markdown",
   "id": "9daf68a3",
   "metadata": {},
   "source": [
    "## Decision Tree"
   ]
  },
  {
   "cell_type": "code",
   "execution_count": 1,
   "id": "f6962d9d",
   "metadata": {},
   "outputs": [],
   "source": [
    "import pandas as pd\n",
    "import numpy as np\n",
    "import sklearn\n",
    "from sklearn.datasets import load_iris\n"
   ]
  },
  {
   "cell_type": "code",
   "execution_count": 3,
   "id": "07aca608",
   "metadata": {},
   "outputs": [
    {
     "name": "stdout",
     "output_type": "stream",
     "text": [
      ".. _iris_dataset:\n",
      "\n",
      "Iris plants dataset\n",
      "--------------------\n",
      "\n",
      "**Data Set Characteristics:**\n",
      "\n",
      "    :Number of Instances: 150 (50 in each of three classes)\n",
      "    :Number of Attributes: 4 numeric, predictive attributes and the class\n",
      "    :Attribute Information:\n",
      "        - sepal length in cm\n",
      "        - sepal width in cm\n",
      "        - petal length in cm\n",
      "        - petal width in cm\n",
      "        - class:\n",
      "                - Iris-Setosa\n",
      "                - Iris-Versicolour\n",
      "                - Iris-Virginica\n",
      "                \n",
      "    :Summary Statistics:\n",
      "\n",
      "    ============== ==== ==== ======= ===== ====================\n",
      "                    Min  Max   Mean    SD   Class Correlation\n",
      "    ============== ==== ==== ======= ===== ====================\n",
      "    sepal length:   4.3  7.9   5.84   0.83    0.7826\n",
      "    sepal width:    2.0  4.4   3.05   0.43   -0.4194\n",
      "    petal length:   1.0  6.9   3.76   1.76    0.9490  (high!)\n",
      "    petal width:    0.1  2.5   1.20   0.76    0.9565  (high!)\n",
      "    ============== ==== ==== ======= ===== ====================\n",
      "\n",
      "    :Missing Attribute Values: None\n",
      "    :Class Distribution: 33.3% for each of 3 classes.\n",
      "    :Creator: R.A. Fisher\n",
      "    :Donor: Michael Marshall (MARSHALL%PLU@io.arc.nasa.gov)\n",
      "    :Date: July, 1988\n",
      "\n",
      "The famous Iris database, first used by Sir R.A. Fisher. The dataset is taken\n",
      "from Fisher's paper. Note that it's the same as in R, but not as in the UCI\n",
      "Machine Learning Repository, which has two wrong data points.\n",
      "\n",
      "This is perhaps the best known database to be found in the\n",
      "pattern recognition literature.  Fisher's paper is a classic in the field and\n",
      "is referenced frequently to this day.  (See Duda & Hart, for example.)  The\n",
      "data set contains 3 classes of 50 instances each, where each class refers to a\n",
      "type of iris plant.  One class is linearly separable from the other 2; the\n",
      "latter are NOT linearly separable from each other.\n",
      "\n",
      ".. topic:: References\n",
      "\n",
      "   - Fisher, R.A. \"The use of multiple measurements in taxonomic problems\"\n",
      "     Annual Eugenics, 7, Part II, 179-188 (1936); also in \"Contributions to\n",
      "     Mathematical Statistics\" (John Wiley, NY, 1950).\n",
      "   - Duda, R.O., & Hart, P.E. (1973) Pattern Classification and Scene Analysis.\n",
      "     (Q327.D83) John Wiley & Sons.  ISBN 0-471-22361-1.  See page 218.\n",
      "   - Dasarathy, B.V. (1980) \"Nosing Around the Neighborhood: A New System\n",
      "     Structure and Classification Rule for Recognition in Partially Exposed\n",
      "     Environments\".  IEEE Transactions on Pattern Analysis and Machine\n",
      "     Intelligence, Vol. PAMI-2, No. 1, 67-71.\n",
      "   - Gates, G.W. (1972) \"The Reduced Nearest Neighbor Rule\".  IEEE Transactions\n",
      "     on Information Theory, May 1972, 431-433.\n",
      "   - See also: 1988 MLC Proceedings, 54-64.  Cheeseman et al\"s AUTOCLASS II\n",
      "     conceptual clustering system finds 3 classes in the data.\n",
      "   - Many, many more ...\n"
     ]
    }
   ],
   "source": [
    "iris = load_iris()\n",
    "D, y = iris.data, iris.target\n",
    "print(iris.DESCR)"
   ]
  },
  {
   "cell_type": "code",
   "execution_count": 5,
   "id": "e19c2766",
   "metadata": {},
   "outputs": [
    {
     "name": "stdout",
     "output_type": "stream",
     "text": [
      "       0    1    2    3  y\n",
      "0    5.1  3.5  1.4  0.2  0\n",
      "1    4.9  3.0  1.4  0.2  0\n",
      "2    4.7  3.2  1.3  0.2  0\n",
      "3    4.6  3.1  1.5  0.2  0\n",
      "4    5.0  3.6  1.4  0.2  0\n",
      "..   ...  ...  ...  ... ..\n",
      "145  6.7  3.0  5.2  2.3  2\n",
      "146  6.3  2.5  5.0  1.9  2\n",
      "147  6.5  3.0  5.2  2.0  2\n",
      "148  6.2  3.4  5.4  2.3  2\n",
      "149  5.9  3.0  5.1  1.8  2\n",
      "\n",
      "[150 rows x 5 columns]\n"
     ]
    }
   ],
   "source": [
    "#Make one pandas dataframe from the two arrays\n",
    "df = pd.DataFrame(D)\n",
    "df['y'] = y\n",
    "print(df)"
   ]
  },
  {
   "cell_type": "code",
   "execution_count": 6,
   "id": "58534756",
   "metadata": {},
   "outputs": [],
   "source": [
    "#This function is to determine the impurity with the gini method. However, it sucks. I didn't remove it so you could have a laugh.\n",
    "def impurity(df): \n",
    "    count = {}\n",
    "    probability = {}\n",
    "    impurity = 1\n",
    "\n",
    "    for i in df['y']:\n",
    "        if i in count:\n",
    "            count[i] = count.get(i) + 1\n",
    "        else:\n",
    "            count[i] = 1\n",
    "\n",
    "    for i in count: \n",
    "        probability[i] = count[i]/df.shape[0]\n",
    "        impurity -= (probability[i]**2)\n",
    "    \n",
    "    return impurity\n",
    "    "
   ]
  },
  {
   "cell_type": "code",
   "execution_count": 7,
   "id": "8d4f1c32",
   "metadata": {},
   "outputs": [
    {
     "name": "stdout",
     "output_type": "stream",
     "text": [
      "0.6666666666666665\n"
     ]
    }
   ],
   "source": [
    "#This is my second try writing a function to calculate with the gini method :)\n",
    "\n",
    "def impurity2(df):\n",
    "    impurity = 1\n",
    "    values = df['y'].value_counts()\n",
    "    for i in values:\n",
    "        impurity = impurity - ((i/(df.shape[0]))**2)\n",
    "    return impurity\n"
   ]
  },
  {
   "cell_type": "code",
   "execution_count": 14,
   "id": "00f0d5ab",
   "metadata": {},
   "outputs": [],
   "source": [
    "#This function can be used to calculate the costs of a split using the gini impurity method.\n",
    "#df0 and df1 are the dataframes after making the split\n",
    "def cost(df, df0, df1):\n",
    "    N = df.shape[0]\n",
    "    N0 = df0.shape[0]\n",
    "    N1 = df1.shape[0]\n",
    "    cost = (impurity2(df0)*(N0/N) + impurity2(df1)*(N1/N)) - impurity2(df)\n",
    "    return cost\n"
   ]
  },
  {
   "cell_type": "markdown",
   "id": "f43fd8a6",
   "metadata": {},
   "source": [
    "## Excercise 1"
   ]
  },
  {
   "cell_type": "code",
   "execution_count": 18,
   "id": "33fd7279",
   "metadata": {},
   "outputs": [
    {
     "name": "stdout",
     "output_type": "stream",
     "text": [
      "the Gini impurity of the root node is 0.6666666666666665\n"
     ]
    }
   ],
   "source": [
    "print(f\"the Gini impurity of the root node is {impurity2(df)}\")"
   ]
  },
  {
   "cell_type": "markdown",
   "id": "f16e4fa6",
   "metadata": {},
   "source": [
    "## Excercise 2"
   ]
  },
  {
   "cell_type": "code",
   "execution_count": 21,
   "id": "fafddc97",
   "metadata": {},
   "outputs": [
    {
     "name": "stdout",
     "output_type": "stream",
     "text": [
      "The cost of splitting the dataset based on whether the sepal length is shorter or longer than the mean is: -0.17476190476190456\n"
     ]
    }
   ],
   "source": [
    "#split the dataframe, such that short contains all Irises with sepal shorter than the mean and long all Irises with sepals longer than the mean\n",
    "short = df[df[0] <= 5.84]\n",
    "long = df[df[0] > 5.84]\n",
    "\n",
    "print(f\"The cost of splitting the dataset based on whether the sepal length is shorter or longer than the mean is: {cost(df, short, long)}\")\n"
   ]
  }
 ],
 "metadata": {
  "kernelspec": {
   "display_name": "Python 3 (ipykernel)",
   "language": "python",
   "name": "python3"
  },
  "language_info": {
   "codemirror_mode": {
    "name": "ipython",
    "version": 3
   },
   "file_extension": ".py",
   "mimetype": "text/x-python",
   "name": "python",
   "nbconvert_exporter": "python",
   "pygments_lexer": "ipython3",
   "version": "3.9.12"
  }
 },
 "nbformat": 4,
 "nbformat_minor": 5
}
