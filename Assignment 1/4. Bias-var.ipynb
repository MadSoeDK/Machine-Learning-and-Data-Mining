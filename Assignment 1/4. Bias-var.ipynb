{
 "cells": [
  {
   "cell_type": "code",
   "execution_count": 1,
   "id": "89cc1707",
   "metadata": {},
   "outputs": [
    {
     "name": "stdout",
     "output_type": "stream",
     "text": [
      "bias: 0.039999999999999994\n",
      "variance: 0.006666666666666665\n"
     ]
    }
   ],
   "source": [
    "import numpy as np\n",
    "\n",
    "f = lambda x: np.tan(np.pi * x)\n",
    "fD1 = lambda x: x + 0.2\n",
    "fD2 = lambda x: 3 * x + 0.3\n",
    "fD3 = lambda x: 5 * x + 0.1\n",
    "\n",
    "mean_fD = np.mean([fD1(0),fD2(0), fD3(0)])\n",
    "\n",
    "# Compute the bias^2\n",
    "bias_sqr = (f(0) - mean_fD)**2\n",
    "\n",
    "# Compute the variance\n",
    "variance = np.mean([(mean_fD - fD1(0))**2,(mean_fD - fD2(0))**2,(mean_fD - fD3(0))**2])\n",
    "\n",
    "print(\"bias:\", bias_sqr)\n",
    "print(\"variance:\", variance)"
   ]
  },
  {
   "cell_type": "code",
   "execution_count": null,
   "id": "2bebb6b1",
   "metadata": {},
   "outputs": [],
   "source": []
  }
 ],
 "metadata": {
  "kernelspec": {
   "display_name": "Python 3 (ipykernel)",
   "language": "python",
   "name": "python3"
  },
  "language_info": {
   "codemirror_mode": {
    "name": "ipython",
    "version": 3
   },
   "file_extension": ".py",
   "mimetype": "text/x-python",
   "name": "python",
   "nbconvert_exporter": "python",
   "pygments_lexer": "ipython3",
   "version": "3.11.5"
  }
 },
 "nbformat": 4,
 "nbformat_minor": 5
}
