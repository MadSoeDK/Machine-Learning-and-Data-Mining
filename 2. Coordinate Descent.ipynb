{
 "cells": [
  {
   "cell_type": "code",
   "execution_count": 3,
   "id": "2cfba733",
   "metadata": {},
   "outputs": [],
   "source": [
    "import numpy as np\n",
    "import sympy as sp\n",
    "import scipy as sc\n",
    "from scipy.optimize import fmin"
   ]
  },
  {
   "cell_type": "code",
   "execution_count": 16,
   "id": "4a151b85",
   "metadata": {},
   "outputs": [],
   "source": [
    "\"\"\"The function for which we have to do the coordinate descent\"\"\"\n",
    "\n",
    "def function(x):\n",
    "    return (1/2)*(x[0]**4)-(x[0]*x[1])+(x[1]**2)+(x[1]*x[2])+(x[2]**2)"
   ]
  },
  {
   "cell_type": "code",
   "execution_count": 5,
   "id": "80505080",
   "metadata": {},
   "outputs": [
    {
     "name": "stdout",
     "output_type": "stream",
     "text": [
      "2.0*x1**3 - x2\n",
      "-x1 + 2*x2 + x3\n",
      "x2 + 2*x3\n"
     ]
    }
   ],
   "source": [
    "\"\"\"Calculate partial derivatives\"\"\"\n",
    "\n",
    "def f(x1, x2, x3):\n",
    "    return (1/2)*(x1**4)-(x1*x2)+(x2**2)+(x2*x3)+(x3**2)\n",
    "                       \n",
    "# Define symbols\n",
    "x1, x2, x3 = sp.symbols('x1 x2 x3')\n",
    "\n",
    "# Define the function symbolically\n",
    "f_sym = f(x1, x2, x3)\n",
    "\n",
    "# Compute partial derivatives symbolically\n",
    "df_dw_sym1 = sp.diff(f_sym, x1)\n",
    "df_db_sym2 = sp.diff(f_sym, x2)\n",
    "df_db_sym3 = sp.diff(f_sym, x3)\n",
    "\n",
    "print(df_dw_sym1)\n",
    "print(df_db_sym2)\n",
    "print(df_db_sym3)"
   ]
  },
  {
   "cell_type": "markdown",
   "id": "e9780a4e",
   "metadata": {},
   "source": [
    "The partial derivatives with respect to $x_1$, $x_2$, $x_3$. To find the minimum, we set the derivatives equal to 0 and solve for $x_i$ respectively.\n",
    "$$x_1=\\sqrt[3]{\\frac{x_2}{2}}$$\n",
    "$$x_2=\\frac{x_1+x_3}{2}$$\n",
    "$$x_3=-\\frac{x_2}{2}$$"
   ]
  },
  {
   "cell_type": "code",
   "execution_count": 14,
   "id": "184eee55",
   "metadata": {},
   "outputs": [],
   "source": [
    "# Define the argmin for each coordinate xi using the partial derivatives\n",
    "\n",
    "def argmin_x1(x):\n",
    "    # Fix the sqrt of a negative number when x2/2 < 0\n",
    "    if x[1]/2 < 0:\n",
    "        return -(np.abs(x[1]/2)**(1/3))\n",
    "    else:\n",
    "        return (x[1]/2)**(1/3)\n",
    "\n",
    "def argmin_x2(x):\n",
    "    return (x[0]/2)-(x[2]/2)\n",
    "\n",
    "def argmin_x3(x):\n",
    "    return -x[1]/2"
   ]
  },
  {
   "cell_type": "code",
   "execution_count": 46,
   "id": "df451b34",
   "metadata": {},
   "outputs": [],
   "source": [
    "\"\"\"The function for the actual coordinate descent\"\"\"\n",
    "\n",
    "def coordinate_descent(f, argmin, x_0, max_iter=100):\n",
    "    x_t = x_0\n",
    "    x_t0 = x_0\n",
    "    \n",
    "    for t in range(max_iter):\n",
    "        for i in range(len(x_t)):\n",
    "            x_t[i] = argmin[i](x_t)\n",
    "            \n",
    "        if t == 0:\n",
    "            print(\"First iteration \", x_t)\n",
    "                                    \n",
    "    return x_t"
   ]
  },
  {
   "cell_type": "markdown",
   "id": "422c5935",
   "metadata": {},
   "source": [
    "Excercise 1:"
   ]
  },
  {
   "cell_type": "code",
   "execution_count": 12,
   "id": "145d935b",
   "metadata": {
    "scrolled": true
   },
   "outputs": [
    {
     "data": {
      "text/plain": [
       "(1.1447142425533319, -1.0, -1.5)"
      ]
     },
     "execution_count": 12,
     "metadata": {},
     "output_type": "execute_result"
    }
   ],
   "source": [
    "# Test argmin functions at x0=(2,3,4)\n",
    "x0 = np.array([2, 3, 4])\n",
    "argmin_test_x1 = argmin_x1(x0)\n",
    "argmin_test_x2 = argmin_x2(x0)\n",
    "argmin_test_x3 = argmin_x3(x0)\n",
    "\n",
    "argmin_test_x1, argmin_test_x2, argmin_test_x3"
   ]
  },
  {
   "cell_type": "markdown",
   "id": "5d0cb65f",
   "metadata": {},
   "source": [
    "Excercise 2:"
   ]
  },
  {
   "cell_type": "code",
   "execution_count": 47,
   "id": "bb881482",
   "metadata": {
    "scrolled": true
   },
   "outputs": [
    {
     "name": "stdout",
     "output_type": "stream",
     "text": [
      "First iteration  [ 2.15443469 -1.42278265  0.71139133]\n",
      "Result  [-0.57735027 -0.38490018  0.19245009]\n"
     ]
    }
   ],
   "source": [
    "argmin = np.array([argmin_x1, argmin_x2, argmin_x3])\n",
    "x_0 = np.array([1.0, 20.0, 5.0])\n",
    "result = coordinate_descent(function, argmin, x_0)\n",
    "print(\"Result \", result)"
   ]
  }
 ],
 "metadata": {
  "kernelspec": {
   "display_name": "Python 3 (ipykernel)",
   "language": "python",
   "name": "python3"
  },
  "language_info": {
   "codemirror_mode": {
    "name": "ipython",
    "version": 3
   },
   "file_extension": ".py",
   "mimetype": "text/x-python",
   "name": "python",
   "nbconvert_exporter": "python",
   "pygments_lexer": "ipython3",
   "version": "3.11.5"
  }
 },
 "nbformat": 4,
 "nbformat_minor": 5
}
