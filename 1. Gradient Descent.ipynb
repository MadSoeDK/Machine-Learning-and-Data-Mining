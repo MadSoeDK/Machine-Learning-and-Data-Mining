{
 "cells": [
  {
   "cell_type": "markdown",
   "id": "e71d9f2c",
   "metadata": {},
   "source": [
    "Define function f and sigmoid function"
   ]
  },
  {
   "cell_type": "code",
   "execution_count": 2,
   "id": "1bb24bbb",
   "metadata": {},
   "outputs": [],
   "source": [
    "import numpy as np\n",
    "import sympy as sp\n",
    "import scipy as sc\n",
    "\n",
    "def sigmoid(x):\n",
    "    return 1 / (1+sp.exp(-x))\n",
    "\n",
    "def f(w,b):\n",
    "    return -sp.log(sigmoid(w + b)) - sp.log(sigmoid(1.5 * w + b)) - sp.log(sigmoid(-2 * w - b))"
   ]
  },
  {
   "cell_type": "markdown",
   "id": "121a4c46",
   "metadata": {},
   "source": [
    "Compute the gradient of f(w,b)"
   ]
  },
  {
   "cell_type": "code",
   "execution_count": 3,
   "id": "d7ff32d3",
   "metadata": {},
   "outputs": [
    {
     "data": {
      "text/plain": [
       "{'df_dw': 1.67215806159088, 'df_db': 0.757513024779072}"
      ]
     },
     "execution_count": 3,
     "metadata": {},
     "output_type": "execute_result"
    }
   ],
   "source": [
    "# Define symbols\n",
    "w, b = sp.symbols('w b')\n",
    "\n",
    "# Define the function symbolically\n",
    "f_sym = f(w, b)\n",
    "\n",
    "# Compute partial derivatives symbolically\n",
    "df_dw_sym = sp.diff(f_sym, w)\n",
    "df_db_sym = sp.diff(f_sym, b)\n",
    "\n",
    "def gradient_f(point):\n",
    "    '''\n",
    "    Compute numerical derivatives given a point (w0, b0)\n",
    "    Return gradient object { \"df_dw\", \"df_db\" }\n",
    "    '''\n",
    "    w0, b0 = point\n",
    "    \n",
    "    df_dw = sp.N(df_dw_sym.subs({w: w0, b: b0}))\n",
    "    df_db = sp.N(df_db_sym.subs({w: w0, b: b0}))\n",
    "    \n",
    "    return { \"df_dw\": df_dw, \"df_db\": df_db }\n",
    "\n",
    "w0, b0 = 1,1\n",
    "\n",
    "gradient_f((w0,b0))"
   ]
  },
  {
   "cell_type": "markdown",
   "id": "60abd9ac",
   "metadata": {},
   "source": [
    "Gradient descent with constant step size"
   ]
  },
  {
   "cell_type": "code",
   "execution_count": 4,
   "id": "3d625b3e",
   "metadata": {},
   "outputs": [],
   "source": [
    "def gradient_descent(f, grad_f, eta, initial_point, max_iter=100):\n",
    "    w, b = initial_point\n",
    "    best_value = float('inf')\n",
    "\n",
    "    for t in range(max_iter):\n",
    "        gradient = grad_f((w, b))\n",
    "\n",
    "        step_size = eta(t+1)\n",
    "        \n",
    "        # Update parameters\n",
    "        w = w - step_size * gradient['df_dw']\n",
    "        b = b - step_size * gradient['df_db']\n",
    "\n",
    "        # Update best value\n",
    "        current_value = f(w, b)\n",
    "        best_value = min(best_value, current_value)\n",
    "\n",
    "    return f(w, b), best_value"
   ]
  },
  {
   "cell_type": "code",
   "execution_count": 5,
   "id": "9c2a402f",
   "metadata": {},
   "outputs": [
    {
     "data": {
      "text/plain": [
       "(1.09322770091888, 1.09322770091888)"
      ]
     },
     "execution_count": 5,
     "metadata": {},
     "output_type": "execute_result"
    }
   ],
   "source": [
    "def eta_const(t,c=0.2):\n",
    "    return c\n",
    "\n",
    "w0, b0 = 1,1\n",
    "\n",
    "# Compute gradient descent with eta_const step size strategy\n",
    "gradient_descent(f, gradient_f, eta_const, (w0,b0))"
   ]
  },
  {
   "cell_type": "markdown",
   "id": "7aa77e82",
   "metadata": {},
   "source": [
    "Gradient descent with eta_sqrt"
   ]
  },
  {
   "cell_type": "code",
   "execution_count": 7,
   "id": "3307aa27",
   "metadata": {},
   "outputs": [
    {
     "data": {
      "text/plain": [
       "(1.70722858578009, 1.70722858578009)"
      ]
     },
     "execution_count": 7,
     "metadata": {},
     "output_type": "execute_result"
    }
   ],
   "source": [
    "def eta_sqrt(t,c=0.2):\n",
    "    return c/np.sqrt(t+1)\n",
    "\n",
    "w0, b0 = 1,1\n",
    "\n",
    "gradient_descent(f, gradient_f, eta_sqrt, (w0,b0))"
   ]
  },
  {
   "cell_type": "markdown",
   "id": "65677e0f",
   "metadata": {},
   "source": [
    "Gradient descent with eta_multistep"
   ]
  },
  {
   "cell_type": "code",
   "execution_count": 8,
   "id": "69130c66",
   "metadata": {},
   "outputs": [
    {
     "data": {
      "text/plain": [
       "(1.60881900402798, 1.60881900402798)"
      ]
     },
     "execution_count": 8,
     "metadata": {},
     "output_type": "execute_result"
    }
   ],
   "source": [
    "def eta_multistep(t, milestones=[20,50,80], c=0.2, eta_init=0.2):\n",
    "    if t < milestones[0]:\n",
    "        return eta_init\n",
    "    elif milestones[0] <= t < milestones[1]:\n",
    "        return eta_init * c\n",
    "    elif milestones[1] <= t < milestones[2]: \n",
    "        return eta_init * c**2 \n",
    "    else:\n",
    "        return eta_init * c**3\n",
    "    \n",
    "\n",
    "w0, b0 = 1,1\n",
    "\n",
    "gradient_descent(f, gradient_f, eta_multistep, (w0,b0))"
   ]
  }
 ],
 "metadata": {
  "kernelspec": {
   "display_name": "Python 3 (ipykernel)",
   "language": "python",
   "name": "python3"
  },
  "language_info": {
   "codemirror_mode": {
    "name": "ipython",
    "version": 3
   },
   "file_extension": ".py",
   "mimetype": "text/x-python",
   "name": "python",
   "nbconvert_exporter": "python",
   "pygments_lexer": "ipython3",
   "version": "3.11.5"
  }
 },
 "nbformat": 4,
 "nbformat_minor": 5
}
