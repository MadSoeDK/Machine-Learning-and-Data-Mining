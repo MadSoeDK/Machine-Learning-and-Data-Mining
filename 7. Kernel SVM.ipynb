{
 "cells": [
  {
   "cell_type": "markdown",
   "id": "a7eadd07",
   "metadata": {},
   "source": [
    "If possible, update your sklearn version to 1.3.2 to reduce variance in the versions."
   ]
  },
  {
   "cell_type": "code",
   "execution_count": 2,
   "id": "7826208c",
   "metadata": {},
   "outputs": [],
   "source": [
    "#!pip3 install scikit-learn==1.3.2"
   ]
  },
  {
   "cell_type": "code",
   "execution_count": 3,
   "id": "dd0a3fe3",
   "metadata": {},
   "outputs": [
    {
     "name": "stdout",
     "output_type": "stream",
     "text": [
      "The scikit-learn version is 1.0.2.\n"
     ]
    }
   ],
   "source": [
    "import sklearn\n",
    "import numpy as np\n",
    "print('The scikit-learn version is {}.'.format(sklearn.__version__))"
   ]
  },
  {
   "cell_type": "markdown",
   "id": "13e24eba",
   "metadata": {},
   "source": [
    "## SVM"
   ]
  },
  {
   "cell_type": "code",
   "execution_count": 4,
   "id": "c132e3a4",
   "metadata": {},
   "outputs": [],
   "source": [
    "# Standard scientific Python imports\n",
    "import matplotlib.pyplot as plt\n",
    "\n",
    "from sklearn import datasets\n",
    "from sklearn.model_selection import train_test_split"
   ]
  },
  {
   "cell_type": "code",
   "execution_count": 5,
   "id": "b7946aaa",
   "metadata": {},
   "outputs": [
    {
     "data": {
      "image/png": "[encoded data removed]",
      "text/plain": [
       "<Figure size 720x216 with 4 Axes>"
      ]
     },
     "metadata": {
      "needs_background": "light"
     },
     "output_type": "display_data"
    }
   ],
   "source": [
    "digits = datasets.load_digits()\n",
    "\n",
    "_, axes = plt.subplots(nrows=1, ncols=4, figsize=(10, 3))\n",
    "for ax, image, label in zip(axes, digits.images, digits.target):\n",
    "    ax.set_axis_off()\n",
    "    ax.imshow(image, cmap=plt.cm.gray_r, interpolation=\"nearest\")\n",
    "    ax.set_title(\"Label %i\" % label)"
   ]
  },
  {
   "cell_type": "code",
   "execution_count": 12,
   "id": "08ceaddc",
   "metadata": {},
   "outputs": [
    {
     "name": "stdout",
     "output_type": "stream",
     "text": [
      "[0 1 2 ... 8 9 8]\n"
     ]
    }
   ],
   "source": [
    "# flatten the images\n",
    "n = len(digits.images)\n",
    "D = digits.images.reshape((n, -1))\n",
    "y = digits.target\n",
    "\n",
    "# Split data into 70% train and 30% test subsets\n",
    "D_train, D_test, y_train, y_test = train_test_split(\n",
    "    D, y, test_size=0.3, shuffle=False\n",
    ")"
   ]
  },
  {
   "cell_type": "code",
   "execution_count": 8,
   "id": "70e6b745",
   "metadata": {},
   "outputs": [
    {
     "data": {
      "text/plain": [
       "array([[ 0.,  0.,  0., ...,  0.,  0.,  0.],\n",
       "       [ 0.,  0.,  5., ...,  3.,  0.,  0.],\n",
       "       [ 0.,  7., 16., ...,  0.,  0.,  0.],\n",
       "       ...,\n",
       "       [ 0.,  0.,  1., ...,  6.,  0.,  0.],\n",
       "       [ 0.,  0.,  2., ..., 12.,  0.,  0.],\n",
       "       [ 0.,  0., 10., ..., 12.,  1.,  0.]])"
      ]
     },
     "execution_count": 8,
     "metadata": {},
     "output_type": "execute_result"
    }
   ],
   "source": [
    "D_test"
   ]
  },
  {
   "cell_type": "markdown",
   "id": "5dac09f5",
   "metadata": {},
   "source": [
    "### Exercise a \n",
    "\n",
    "Train an RBF kernel SVM with parameters gamma=0.0005, C=0.9. Use the SVC SVM model from sklearn to do so. Train the model on the D_train dataset (70-30 split) and test the model on the D_test dataset. What is the accuracy of the model on the test data?"
   ]
  },
  {
   "cell_type": "code",
   "execution_count": 38,
   "id": "82040af0",
   "metadata": {},
   "outputs": [
    {
     "data": {
      "text/plain": [
       "0.9555555555555556"
      ]
     },
     "execution_count": 38,
     "metadata": {},
     "output_type": "execute_result"
    }
   ],
   "source": [
    "from sklearn.svm import SVC\n",
    "\n",
    "gamma = 0.0005\n",
    "C= 0.9\n",
    "\n",
    "# SVM model with RBF kernel\n",
    "svm_model = SVC(kernel='rbf', gamma=gamma, C=C, decision_function_shape='ovo')\n",
    "\n",
    "# Train model on training data\n",
    "svm_model.fit(D_train, y_train)\n",
    "\n",
    "# Predict labels for test data\n",
    "y_pred = svm_model.predict(D_test)\n",
    "\n",
    "# Evaluate accuracy of model\n",
    "accuracy = svm_model.score(D_test, y_test)\n",
    "\n",
    "accuracy"
   ]
  },
  {
   "cell_type": "markdown",
   "id": "1af7d3e4",
   "metadata": {},
   "source": [
    "## Excercise C"
   ]
  },
  {
   "cell_type": "code",
   "execution_count": 52,
   "id": "e4791773",
   "metadata": {},
   "outputs": [
    {
     "name": "stdout",
     "output_type": "stream",
     "text": [
      "[38 71 55 64 52 57 41 61 81 81]\n",
      "109\n"
     ]
    }
   ],
   "source": [
    "# Get the amount of support vectors per class\n",
    "n_support_vectors_per_class = svm_model.n_support_\n",
    "print(n_support_vectors_per_class)\n",
    "\n",
    "# Get the class labels\n",
    "class_labels = svm_model.classes_\n",
    "\n",
    "\n",
    "# Print the mapping between class indices and class labels\n",
    "num_support_vectors_0_1 = n_support_vectors_per_class[0] + n_support_vectors_per_class[1]\n",
    "print(num_support_vectors_0_1)"
   ]
  },
  {
   "cell_type": "markdown",
   "id": "780e2d2e",
   "metadata": {},
   "source": [
    "## Excercise D"
   ]
  },
  {
   "cell_type": "code",
   "execution_count": 50,
   "id": "94285b93",
   "metadata": {},
   "outputs": [
    {
     "name": "stdout",
     "output_type": "stream",
     "text": [
      "[[ 0.  0.  1. ...  3.  0.  0.]\n",
      " [ 0.  0.  2. ...  4.  0.  0.]\n",
      " [ 0.  0. 10. ... 12.  4.  0.]\n",
      " ...\n",
      " [ 0.  0. 13. ... 12.  0.  0.]\n",
      " [ 0.  0.  9. ...  6.  0.  0.]\n",
      " [ 0.  1.  7. ...  5.  0.  0.]]\n",
      "[  10   55   78  101  150  179  208  209  286  292  304  465  487  564\n",
      "  588  594  595  617  656  695  701  776  796  824  825  831  854  902\n",
      "  980  981 1025 1049 1077 1078 1187 1205 1229 1235   70   90   93   99\n",
      "  131  151  177  186  200  215  218  235  257  267  277  303  312  336\n",
      "  341  355  363  387  397  433  442  471  485  493  527  537  563  586\n",
      "  596  606  615  623  667  688  693  726  731  736  745  753  777  787\n",
      "  818  823  832  846  856  861  883  906  916  926  947  952  958 1000\n",
      " 1030 1083 1117 1126 1158 1178 1204 1213 1227 1242 1256    2   12   50\n",
      "   51   54   57   75   77  115  142  184  187  205  241  243  244  369\n",
      "  398  436  440  443  461  470  502  518  528  538  566  567  573  593\n",
      "  600  632  648  658  668  697  700  703  721  723  730  759  827  851\n",
      "  853  889  891  892  917 1016 1104 1143 1179 1241   59   83   91   98\n",
      "  103  133  192  217  226  231  269  315  354  389  399  409  445  446\n",
      "  448  449  469  475  477  484  489  519  529  539  575  576  578  579\n",
      "  599  605  607  649  659  691  705  735  737  779  821  835  836  838\n",
      "  839  879  928  950  964  965  985  992 1004 1032 1110 1118 1125 1130\n",
      " 1180 1202 1216 1248    4   14   24   64   68   87  110  111  121  134\n",
      "  171  194  198  238  239  247  280  324  366  390  427  473  496  510\n",
      "  530  584  603  626  627  637  670  687  710  746  756  757  767  770\n",
      "  780  863  876  966  988  998 1001 1022 1043 1070 1095 1138 1151 1221\n",
      "    5   33   46   74  120  145  155  204  237  245  261  271  289  291\n",
      "  327  373  418  419  421  432  457  506  521  531  549  551  590  633\n",
      "  651  661  671  678  681  720  766  791  808  809  811  847  920  930\n",
      "  937  940  951  976 1010 1018 1062 1064 1098 1136 1147 1162 1182 1203\n",
      " 1231   16   26   67   95  104  106  156  314  362  392  402  420  444\n",
      "  474  481  492  532  574  581  583  598  604  662  704  712  713  734\n",
      "  750  782  792  843  880  921  960 1035 1055 1122 1131 1163 1239 1245\n",
      "   17   27   43   61   86  108  137  147  191  211  216  240  308  337\n",
      "  350  364  374  393  413  429  430  438  447  467  472  480  498  504\n",
      "  523  543  568  628  673  689  690  727  740  819  828  857  884  894\n",
      "  912  922  949  954  995 1056 1072 1073 1079 1088 1113 1121 1139 1164\n",
      " 1184 1200 1218 1243 1251   18   38   53   76   96  114  122  123  127\n",
      "  129  158  170  206  224  242  248  249  253  284  309  378  394  414\n",
      "  439  462  482  500  508  509  513  524  534  554  556  569  592  630\n",
      "  638  639  643  645  664  760  769  784  794  804  814  816  829  852\n",
      "  872  890  898  899  903  905  923  933  945  955  997 1015 1026 1037\n",
      " 1047 1057 1067 1080 1103 1141 1149 1150 1154 1165 1185 1195 1197 1210\n",
      " 1233 1253    9   19   29   31   37   39   69   73   92  105  125  128\n",
      "  161  203  220  254  265  275  287  295  325  329  348  361  375  381\n",
      "  384  415  417  423  459  491  505  511  525  535  545  547  553  555\n",
      "  585  589  608  621  641  675  677  683  685  719  738  751  765  771\n",
      "  774  795  805  813  845  895  901  904  942  975 1006 1024 1038 1048\n",
      " 1058 1060 1066 1068 1096 1100 1119 1146 1152 1155 1186 1230 1249]\n"
     ]
    }
   ],
   "source": [
    "support_vectors = svm_model.support_vectors_\n",
    "#print(support_vectors[1])\n",
    "#print(len(support_vectors[1]))\n",
    "print(svm_model.support_vectors_)\n",
    "print(svm_model.support_)\n",
    "class_index = 1\n",
    "support_vectors_class_1 = svm_model.support_vectors_\n",
    "#support_vectors_class_1[svm_model.decision_function(D_train)[:, ]]"
   ]
  },
  {
   "cell_type": "markdown",
   "id": "3999c1fa",
   "metadata": {},
   "source": [
    "### Exercise e\n",
    "Use the sklearn function GridSearchCV to determine the best combination for the parameters gamma and C according to a 5-fold cross validation of the SVC SVM with RBG kernel. Train the model on the whole dataset D, not just D_train. Use as the scoring method the accuracy and set as the candidate parameters $gamma \\in \\{0.0001,0.0005,0.001,0.005\\}$ and $C \\in \\{0.6,0.8,1,2,4\\}$.\n",
    "\n",
    "The code below is implemented according to the documentation for GridSearchCV, source: https://scikit-learn.org/stable/modules/generated/sklearn.model_selection.GridSearchCV.html#sklearn.model_selection.GridSearchCV\n"
   ]
  },
  {
   "cell_type": "code",
   "execution_count": 8,
   "id": "9395049d",
   "metadata": {},
   "outputs": [
    {
     "name": "stdout",
     "output_type": "stream",
     "text": [
      "{'C': 4, 'gamma': 0.0005} 0.9744073042401734\n"
     ]
    }
   ],
   "source": [
    "from sklearn.model_selection import GridSearchCV\n",
    "\n",
    "# Define param grid\n",
    "param_grid = {'gamma': [0.0001, 0.0005, 0.001, 0.005], 'C': [0.6, 0.8, 1, 2, 4]}\n",
    "\n",
    "# SVM model with RBF kernel\n",
    "svm_model = SVC(kernel='rbf')\n",
    "\n",
    "# Use GridSearchCV\n",
    "grid_search = GridSearchCV(estimator=svm_model, param_grid=param_grid, scoring='accuracy', cv=5)\n",
    "\n",
    "# Fit the model to D\n",
    "grid_search.fit(D, y)\n",
    "\n",
    "# Get best parameters and accuracy\n",
    "best_params = grid_search.best_params_\n",
    "best_accuracy = grid_search.best_score_\n",
    "\n",
    "print(best_params, best_accuracy)\n"
   ]
  }
 ],
 "metadata": {
  "kernelspec": {
   "display_name": "Python 3 (ipykernel)",
   "language": "python",
   "name": "python3"
  },
  "language_info": {
   "codemirror_mode": {
    "name": "ipython",
    "version": 3
   },
   "file_extension": ".py",
   "mimetype": "text/x-python",
   "name": "python",
   "nbconvert_exporter": "python",
   "pygments_lexer": "ipython3",
   "version": "3.9.12"
  }
 },
 "nbformat": 4,
 "nbformat_minor": 5
}
