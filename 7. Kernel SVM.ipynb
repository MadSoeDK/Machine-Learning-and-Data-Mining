{
 "cells": [
  {
   "cell_type": "markdown",
   "id": "a7eadd07",
   "metadata": {},
   "source": [
    "If possible, update your sklearn version to 1.3.2 to reduce variance in the versions."
   ]
  },
  {
   "cell_type": "code",
   "execution_count": 1,
   "id": "7826208c",
   "metadata": {},
   "outputs": [],
   "source": [
    "#!pip3 install scikit-learn==1.3.2"
   ]
  },
  {
   "cell_type": "code",
   "execution_count": 12,
   "id": "dd0a3fe3",
   "metadata": {},
   "outputs": [
    {
     "name": "stdout",
     "output_type": "stream",
     "text": [
      "The scikit-learn version is 1.3.2.\n"
     ]
    }
   ],
   "source": [
    "import sklearn\n",
    "import numpy as np\n",
    "print('The scikit-learn version is {}.'.format(sklearn.__version__))"
   ]
  },
  {
   "cell_type": "markdown",
   "id": "13e24eba",
   "metadata": {},
   "source": [
    "## SVM"
   ]
  },
  {
   "cell_type": "code",
   "execution_count": 13,
   "id": "c132e3a4",
   "metadata": {},
   "outputs": [],
   "source": [
    "# Standard scientific Python imports\n",
    "import matplotlib.pyplot as plt\n",
    "\n",
    "from sklearn import datasets\n",
    "from sklearn.model_selection import train_test_split"
   ]
  },
  {
   "cell_type": "code",
   "execution_count": 14,
   "id": "b7946aaa",
   "metadata": {},
   "outputs": [
    {
     "data": {
      "image/png": "[encoded data removed]",
      "text/plain": [
       "<Figure size 1000x300 with 4 Axes>"
      ]
     },
     "metadata": {},
     "output_type": "display_data"
    }
   ],
   "source": [
    "digits = datasets.load_digits()\n",
    "\n",
    "_, axes = plt.subplots(nrows=1, ncols=4, figsize=(10, 3))\n",
    "for ax, image, label in zip(axes, digits.images, digits.target):\n",
    "    ax.set_axis_off()\n",
    "    ax.imshow(image, cmap=plt.cm.gray_r, interpolation=\"nearest\")\n",
    "    ax.set_title(\"Label %i\" % label)"
   ]
  },
  {
   "cell_type": "code",
   "execution_count": 15,
   "id": "08ceaddc",
   "metadata": {},
   "outputs": [],
   "source": [
    "# flatten the images\n",
    "n = len(digits.images)\n",
    "D = digits.images.reshape((n, -1))\n",
    "y = digits.target\n",
    "\n",
    "# Split data into 70% train and 30% test subsets\n",
    "D_train, D_test, y_train, y_test = train_test_split(\n",
    "    D, y, test_size=0.3, shuffle=False\n",
    ")"
   ]
  },
  {
   "cell_type": "code",
   "execution_count": 16,
   "id": "70e6b745",
   "metadata": {},
   "outputs": [
    {
     "data": {
      "text/plain": [
       "array([[ 0.,  0.,  0., ...,  0.,  0.,  0.],\n",
       "       [ 0.,  0.,  5., ...,  3.,  0.,  0.],\n",
       "       [ 0.,  7., 16., ...,  0.,  0.,  0.],\n",
       "       ...,\n",
       "       [ 0.,  0.,  1., ...,  6.,  0.,  0.],\n",
       "       [ 0.,  0.,  2., ..., 12.,  0.,  0.],\n",
       "       [ 0.,  0., 10., ..., 12.,  1.,  0.]])"
      ]
     },
     "execution_count": 16,
     "metadata": {},
     "output_type": "execute_result"
    }
   ],
   "source": [
    "D_test"
   ]
  },
  {
   "cell_type": "markdown",
   "id": "5dac09f5",
   "metadata": {},
   "source": [
    "### Exercise a \n",
    "\n",
    "Train an RBF kernel SVM with parameters gamma=0.0005, C=0.9. Use the SVC SVM model from sklearn to do so. Train the model on the D_train dataset (70-30 split) and test the model on the D_test dataset. What is the accuracy of the model on the test data?"
   ]
  },
  {
   "cell_type": "code",
   "execution_count": 17,
   "id": "82040af0",
   "metadata": {},
   "outputs": [
    {
     "data": {
      "text/plain": [
       "0.9555555555555556"
      ]
     },
     "execution_count": 17,
     "metadata": {},
     "output_type": "execute_result"
    }
   ],
   "source": [
    "from sklearn.svm import SVC\n",
    "\n",
    "gamma = 0.0005\n",
    "C= 0.9\n",
    "\n",
    "# SVM model with RBF kernel\n",
    "svm_model = SVC(kernel='rbf', gamma=gamma, C=C)\n",
    "\n",
    "# Train model on training data\n",
    "svm_model.fit(D_train, y_train)\n",
    "\n",
    "# Predict labels for test data\n",
    "y_pred = svm_model.predict(D_test)\n",
    "\n",
    "# Accuracy of model\n",
    "accuracy = svm_model.score(D_test, y_test)\n",
    "\n",
    "accuracy"
   ]
  },
  {
   "cell_type": "markdown",
   "id": "b309c93b",
   "metadata": {},
   "source": [
    "### Exercise c"
   ]
  },
  {
   "cell_type": "code",
   "execution_count": 18,
   "id": "51c0798d",
   "metadata": {},
   "outputs": [
    {
     "name": "stdout",
     "output_type": "stream",
     "text": [
      "[38 71 55 64 52 57 41 61 81 81]\n",
      "109\n"
     ]
    }
   ],
   "source": [
    "# Get the amount of support vectors per class\n",
    "n_support_vectors_per_class = svm_model.n_support_\n",
    "print(n_support_vectors_per_class)\n",
    "\n",
    "# Get the class labels\n",
    "class_labels = svm_model.classes_\n",
    "\n",
    "# Print the mapping between class indices and class labels\n",
    "num_support_vectors_0_1 = n_support_vectors_per_class[0] + n_support_vectors_per_class[1]\n",
    "print(num_support_vectors_0_1)"
   ]
  },
  {
   "cell_type": "markdown",
   "id": "4a69a4a7",
   "metadata": {},
   "source": [
    "### Exercise d"
   ]
  },
  {
   "cell_type": "code",
   "execution_count": 22,
   "id": "9e3cfe1e",
   "metadata": {},
   "outputs": [
    {
     "name": "stdout",
     "output_type": "stream",
     "text": [
      "109\n"
     ]
    },
    {
     "data": {
      "image/png": "[encoded data removed]",
      "text/plain": [
       "<Figure size 1000x500 with 8 Axes>"
      ]
     },
     "metadata": {},
     "output_type": "display_data"
    }
   ],
   "source": [
    "# Get support vectors\n",
    "support_vectors = svm_model.support_vectors_\n",
    "\n",
    "# Get the indices and labels of the support vectors\n",
    "support_vector_indices = svm_model.support_\n",
    "support_vector_labels = y_train[svm_model.support_]\n",
    "\n",
    "# Find the support vectors for classes 0 and 1\n",
    "class_0_indices = support_vector_indices[support_vector_labels == 0]\n",
    "class_1_indices = support_vector_indices[support_vector_labels == 1]\n",
    "\n",
    "# Number of support vectors\n",
    "print(len(class_0_indices) + len(class_1_indices))\n",
    "\n",
    "# Get dual coefficients\n",
    "dual_coef = svm_model.dual_coef_\n",
    "\n",
    "# Sort the dual coefficients to find the most influential support vectors\n",
    "class_0_indices_sorted = np.argsort(np.abs(dual_coef[0, support_vector_labels == 0]))\n",
    "class_1_indices_sorted = np.argsort(np.abs(dual_coef[0, support_vector_labels == 1]))\n",
    "\n",
    "# Select four most influential support vectors for each class\n",
    "top_sv_class_0 = class_0_indices[class_0_indices_sorted[:4]]\n",
    "top_sv_class_1 = class_1_indices[class_1_indices_sorted[:4]]\n",
    "\n",
    "# Plotting the most influential support vectors for each class\n",
    "fig, axes = plt.subplots(2, 4, figsize=(10, 5))\n",
    "\n",
    "for ax, sv_index in zip(axes[0], top_sv_class_1):\n",
    "    ax.imshow(D_train[sv_index].reshape(8, 8), cmap=plt.cm.gray_r, interpolation='nearest')\n",
    "    ax.set_title(f\"Class 1 SV\")\n",
    "\n",
    "for ax, sv_index in zip(axes[1], top_sv_class_0):\n",
    "    ax.imshow(D_train[sv_index].reshape(8, 8), cmap=plt.cm.gray_r, interpolation='nearest')\n",
    "    ax.set_title(f\"Class 0 SV\")\n",
    "\n",
    "plt.tight_layout()\n",
    "plt.show()"
   ]
  },
  {
   "cell_type": "markdown",
   "id": "3999c1fa",
   "metadata": {},
   "source": [
    "### Exercise e\n",
    "Use the sklearn function GridSearchCV to determine the best combination for the parameters gamma and C according to a 5-fold cross validation of the SVC SVM with RBG kernel. Train the model on the whole dataset D, not just D_train. Use as the scoring method the accuracy and set as the candidate parameters $gamma \\in \\{0.0001,0.0005,0.001,0.005\\}$ and $C \\in \\{0.6,0.8,1,2,4\\}$.\n",
    "\n",
    "The code below is implemented according to the documentation for GridSearchCV, source: https://scikit-learn.org/stable/modules/generated/sklearn.model_selection.GridSearchCV.html#sklearn.model_selection.GridSearchCV\n"
   ]
  },
  {
   "cell_type": "code",
   "execution_count": 10,
   "id": "9395049d",
   "metadata": {},
   "outputs": [
    {
     "name": "stdout",
     "output_type": "stream",
     "text": [
      "{'C': 4, 'gamma': 0.0005} 0.9744073042401734\n"
     ]
    }
   ],
   "source": [
    "from sklearn.model_selection import GridSearchCV\n",
    "\n",
    "# Define param grid\n",
    "param_grid = {'gamma': [0.0001, 0.0005, 0.001, 0.005], 'C': [0.6, 0.8, 1, 2, 4]}\n",
    "\n",
    "# SVM model with RBF kernel\n",
    "svm_model = SVC(kernel='rbf')\n",
    "\n",
    "# Use GridSearchCV\n",
    "grid_search = GridSearchCV(estimator=svm_model, param_grid=param_grid, scoring='accuracy', cv=5)\n",
    "\n",
    "# Fit the model to D\n",
    "grid_search.fit(D, y)\n",
    "\n",
    "# Get best parameters and accuracy\n",
    "best_params = grid_search.best_params_\n",
    "best_accuracy = grid_search.best_score_\n",
    "\n",
    "print(best_params, best_accuracy)"
   ]
  }
 ],
 "metadata": {
  "kernelspec": {
   "display_name": "Python 3 (ipykernel)",
   "language": "python",
   "name": "python3"
  },
  "language_info": {
   "codemirror_mode": {
    "name": "ipython",
    "version": 3
   },
   "file_extension": ".py",
   "mimetype": "text/x-python",
   "name": "python",
   "nbconvert_exporter": "python",
   "pygments_lexer": "ipython3",
   "version": "3.11.5"
  }
 },
 "nbformat": 4,
 "nbformat_minor": 5
}
